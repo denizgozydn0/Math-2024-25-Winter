{
  "nbformat": 4,
  "nbformat_minor": 0,
  "metadata": {
    "colab": {
      "provenance": []
    },
    "kernelspec": {
      "name": "python3",
      "display_name": "Python 3"
    },
    "language_info": {
      "name": "python"
    }
  },
  "cells": [
    {
      "cell_type": "markdown",
      "source": [
        "## 17. Equations of Second-Order Surfaces\n",
        "\n",
        "- Write the equation of a sphere with center at point P = (1, 2, 3) and radius r = 3.\n",
        "\n",
        "- Do the spheres with equations x² + y² + z² = 1 and x² + y² + z² = 2 have any common points?\n",
        "\n",
        "- What curve in space is formed by the intersection of the sphere x² + y² + z² = 1 with the sphere (x - 1)² + y² + z² = 1? Find the equation of this curve.\n",
        "\n",
        "- Write the equation of the tangent plane to the paraboloid z = (x - 1)² + y² + 1 at point P(1, 0, 1)."
      ],
      "metadata": {
        "id": "4PoV4lW8ro3d"
      }
    },
    {
      "cell_type": "code",
      "source": [
        "# 17 answers\n",
        "# 1. Equation of a sphere with center P = (1, 2, 3) and radius r = 3\n",
        "x, y, z = sp.symbols('x y z')\n",
        "sphere_eq = (x - 1)**2 + (y - 2)**2 + (z - 3)**2 - 3**2\n",
        "print(\"Equation of the sphere:\", sphere_eq, \"= 0\")\n",
        "\n",
        "# 2. Do the spheres x^2 + y^2 + z^2 = 1 and x^2 + y^2 + z^2 = 2 have any common points?\n",
        "sphere1 = x**2 + y**2 + z**2 - 1\n",
        "sphere2 = x**2 + y**2 + z**2 - 2\n",
        "intersection = sp.solve([sphere1, sphere2], (x, y, z))\n",
        "print(\"Common points of the spheres:\", intersection)\n",
        "\n",
        "# 3. Curve formed by the intersection of the spheres\n",
        "sphere3 = (x - 1)**2 + y**2 + z**2 - 1\n",
        "intersection_curve = sp.simplify(sphere1 - sphere3)\n",
        "print(\"Equation of the intersection curve:\", intersection_curve, \"= 0\")\n",
        "\n",
        "# 4. Equation of the tangent plane to the paraboloid z = (x - 1)^2 + y^2 + 1 at P(1, 0, 1)\n",
        "z_paraboloid = (x - 1)**2 + y**2 + 1\n",
        "\n",
        "# Gradient of the paraboloid\n",
        "grad = [sp.diff(z_paraboloid, var) for var in (x, y, z)]\n",
        "point = {x: 1, y: 0, z: 1}\n",
        "normal_vector = [g.subs(point) for g in grad]\n",
        "\n",
        "tangent_plane = normal_vector[0] * (x - 1) + normal_vector[1] * (y - 0) + normal_vector[2] * (z - 1)\n",
        "print(\"Equation of the tangent plane:\", sp.simplify(tangent_plane), \"= 0\")\n"
      ],
      "metadata": {
        "id": "NlY1VP47sa2W"
      },
      "execution_count": null,
      "outputs": []
    },
    {
      "cell_type": "markdown",
      "source": [],
      "metadata": {
        "id": "ZvS6g2-aluox"
      }
    },
    {
      "cell_type": "markdown",
      "source": [
        "## 18. Functions\n",
        "\n",
        "\t1.\tDraw in a single Geogebra notebook the following functions:\n",
        "\t•\tf(x) = x^2\n",
        "\t•\tg(x) = \\sqrt{x}\n",
        "\t•\th(x) = \\frac{1}{x}\n",
        "\t•\tj(x) = \\sin(x)\n",
        "Find the value of all the above functions at x = 2.\n",
        "\t2.\tLet f(x) = 3x - 1 and g(x) = \\sqrt{x}. Find:\n",
        "\t•\tf(g(x))\n",
        "\t•\tg(f(x))\n",
        "\t•\tf(f(x))\n",
        "\t•\tg(g(x))\n",
        "and visualize the functions in a single Geogebra notebook.\n",
        "\t3.\tLet f(x) = e^x and g(x) = \\ln(x). Check f(g(x)) and g(f(x)). What do you notice?\n",
        "\t4.\tWe have the function f = \\{(1,7), (2,9), (3,11)\\}. Give the inverse function f^{-1}.\n",
        "\t5.\tWe have the function f = \\{(1,7), (2,7), (3,11)\\}. Give the inverse function f^{-1}.\n",
        "\t6.\tWe have the function f(x) = x - 1. Give the inverse function f^{-1}. Show both functions in the same Geogebra notebook.\n"
      ],
      "metadata": {
        "id": "fzvYrcfJr7I_"
      }
    },
    {
      "cell_type": "markdown",
      "source": [
        "## 19. Limits of Sequences\n",
        "\n",
        "\t1.\tCalculate:\n",
        "\t•\t\\lim_{n \\to \\infty} \\frac{n^2 + 3n}{2n^2 - 2n}\n",
        "\t•\t\\lim_{n \\to \\infty} \\frac{(2n + 3)^3}{n^3 - 1}\n",
        "\t2.\tProve using the squeeze theorem:\n",
        "\t•\t\\lim_{n \\to \\infty} \\frac{\\sin(n)}{n}\n",
        "\t3.\tFind the limit of the sequence:\n",
        "\t•\ta_n = \\left(1 + \\frac{1}{n}\\right)^"
      ],
      "metadata": {
        "id": "ygV0A5rDqwb8"
      }
    },
    {
      "cell_type": "code",
      "source": [
        " #19 answers\n",
        " # 1. Calculate the given limits\n",
        "n = sp.symbols('n')\n",
        "\n",
        "# (a) lim (n^2 + 3n) / (2n^2 - 2n) as n -> infinity\n",
        "expr_a = (n**2 + 3*n) / (2*n**2 - 2*n)\n",
        "limit_a = sp.limit(expr_a, n, sp.oo)\n",
        "print(\"Limit (a):\", limit_a)\n",
        "\n",
        "# (b) lim ((2n + 3)^3) / (n^3 - 1) as n -> infinity\n",
        "expr_b = ((2*n + 3)**3) / (n**3 - 1)\n",
        "limit_b = sp.limit(expr_b, n, sp.oo)\n",
        "print(\"Limit (b):\", limit_b)\n",
        "\n",
        "# 2. Prove using the squeeze theorem: lim sin(n)/n as n -> infinity\n",
        "expr_c = sp.sin(n) / n\n",
        "limit_c = sp.limit(expr_c, n, sp.oo)\n",
        "print(\"Limit using squeeze theorem (sin(n)/n):\", limit_c)\n",
        "\n",
        "# 3. Find the limit of the sequence a_n = (1 + 1/n)^n\n",
        "expr_d = (1 + 1/n)**n\n",
        "limit_d = sp.limit(expr_d, n, sp.oo)\n",
        "print(\"Limit of the sequence a_n:\", limit_d)\n"
      ],
      "metadata": {
        "id": "kkmcSEoBtK2H"
      },
      "execution_count": null,
      "outputs": []
    },
    {
      "cell_type": "markdown",
      "source": [
        "## 20. Limits of Real Functions\n",
        "\n",
        "\t1.\tCompute:\n",
        "\t•\t\\lim_{x \\to \\infty} \\frac{x^3 + 2x^2}{x^4 - 3x^3}\n",
        "\t2.\tFind:\n",
        "\t•\t\\lim_{x \\to 0} \\frac{\\sin(3x)}{2x + 1}\n",
        "\t3.\tFind the asymptotes of the function:\n",
        "\t•\tf(x) = \\frac{x^2 - 1}{x^2 + 1}\n",
        "\n"
      ],
      "metadata": {
        "id": "jxx2_CfVrDca"
      }
    },
    {
      "cell_type": "code",
      "source": [
        "# 20 answers\n",
        "# 1. Compute lim (x^3 + 2x^2) / (x^4 - 3x^3) as x -> infinity\n",
        "expr_1 = (x**3 + 2*x**2) / (x**4 - 3*x**3)\n",
        "limit_1 = sp.limit(expr_1, x, sp.oo)\n",
        "print(\"Limit 1:\", limit_1)\n",
        "\n",
        "# 2. Compute lim (sin(3x)) / (2x + 1) as x -> 0\n",
        "expr_2 = sp.sin(3*x) / (2*x + 1)\n",
        "limit_2 = sp.limit(expr_2, x, 0)\n",
        "print(\"Limit 2:\", limit_2)\n",
        "\n",
        "# 3. Find the asymptotes of f(x) = (x^2 - 1) / (x^2 + 1)\n",
        "f = (x**2 - 1) / (x**2 + 1)\n",
        "\n",
        "# Horizontal asymptotes\n",
        "horizontal_asymptote = sp.limit(f, x, sp.oo)\n",
        "print(\"Horizontal asymptote:\", horizontal_asymptote)\n",
        "\n",
        "# Vertical asymptotes (denominator = 0)\n",
        "vertical_asymptotes = sp.solve(sp.denom(f), x)\n",
        "print(\"Vertical asymptotes:\", vertical_asymptotes)\n",
        "\n",
        "# Slant asymptotes (if applicable)\n",
        "slant_asymptote = sp.div(sp.numer(f), sp.denom(f))\n",
        "print(\"Slant asymptote (if any):\", slant_asymptote)\n"
      ],
      "metadata": {
        "id": "A0svrnlrt5wm"
      },
      "execution_count": null,
      "outputs": []
    },
    {
      "cell_type": "markdown",
      "source": [
        "# 21. Derivatives\n",
        "\n",
        "## 1. Compute derivatives of functions:\n",
        "\n",
        "- \\( y(x) = -3x + 3 \\)\n",
        "- \\( y(x) = x^2 + \\sin(1) \\)\n",
        "- \\( y(x) = 4 + \\sin(x) \\)\n",
        "- \\( y(x) = 2x^3 - x^2 + 8x - 9 \\)\n",
        "- \\( y(x) = x^6 + x^{1/3} \\)\n",
        "- \\( y(x) = \\cos(x^3) + \\exp(x) \\)\n",
        "- \\( y(x) = x \\sin(x) \\)\n",
        "- \\( y(x) = (x + 1)(x + 1) \\)\n",
        "- \\( y(x) = x + 1 \\)\n",
        "- \\( y(x) = (x + 1) \\exp(x) \\)\n",
        "- \\( y(x) = \\sin(x^2) \\)\n",
        "- \\( y(x) = \\exp(x^2 + 1) \\)\n",
        "- \\( y(x) = \\frac{\\ln(x)}{x+1} \\)\n",
        "- \\( y(x) = x \\sqrt{x + 1} \\)\n",
        "\n",
        "---\n",
        "\n",
        "## 2. Prove:\n",
        "\\[\n",
        "\\frac{d}{dx} (\\ln(\\sin(x))) = \\cot(x)\n",
        "\\]\n",
        "\n",
        "---\n",
        "\n",
        "## 3. For \\( f(x) = \\cos(x) \\), verify that:\n",
        "\\[\n",
        "f''(x) = -f(x)\n",
        "\\]\n",
        "\n",
        "---\n",
        "\n",
        "## 4. Using de l’Hôpital’s Rule, find the improper limits:\n",
        "\n",
        "- \\[\n",
        "\\lim_{x \\to 0} \\frac{\\sin(x)}{x}\n",
        "\\]\n",
        "- \\[\n",
        "\\lim_{x \\to 0} \\frac{\\ln(x)}{x}\n",
        "\\]\n",
        "- \\[\n",
        "\\lim_{x \\to \\infty} \\frac{\\exp(x)}{x}\n",
        "\\]\n",
        "\n",
        "---\n",
        "\n",
        "## 5. Physics Problem:\n",
        "\n",
        "In physics, the position of a particle is given by:\n",
        "\\[\n",
        "x(t) = 3t^2 - 6t + 1\n",
        "\\]\n",
        "\n",
        "Find the velocity \\( v(t) = x'(t) \\) and acceleration \\( a(t) = v'(t) \\) of the particle at time \\( t = 2 \\)."
      ],
      "metadata": {
        "id": "JEHZN_I4rV_N"
      }
    },
    {
      "cell_type": "code",
      "source": [
        "#answers 21\n",
        "# 1. Compute derivatives of functions\n",
        "y1 = -3*x + 3\n",
        "y2 = x**2 + sp.sin(1)\n",
        "y3 = 4 + sp.sin(x)\n",
        "y4 = 2*x**3 - x**2 + 8*x - 9\n",
        "y5 = x**6 + x**(1/3)\n",
        "y6 = sp.cos(x**3) + sp.exp(x)\n",
        "y7 = x * sp.sin(x)\n",
        "y8 = (x + 1) * (x + 1)\n",
        "y9 = x + 1\n",
        "y10 = (x + 1) * sp.exp(x)\n",
        "y11 = sp.sin(x**2)\n",
        "y12 = sp.exp(x**2 + 1)\n",
        "y13 = sp.ln(x) / (x + 1)\n",
        "y14 = x * sp.sqrt(x + 1)\n",
        "\n",
        "functions = [y1, y2, y3, y4, y5, y6, y7, y8, y9, y10, y11, y12, y13, y14]\n",
        "\n",
        "print(\"Derivatives of functions:\")\n",
        "for i, func in enumerate(functions, 1):\n",
        "    derivative = sp.diff(func, x)\n",
        "    print(f\"y{i}' =\", derivative)\n",
        "\n",
        "# 2. Prove d/dx(ln(sin(x))) = cot(x)\n",
        "expr = sp.ln(sp.sin(x))\n",
        "derivative_expr = sp.diff(expr, x)\n",
        "print(\"Derivative of ln(sin(x)):\", derivative_expr)\n",
        "\n",
        "# 3. Verify f''(x) = -f(x) for f(x) = cos(x)\n",
        "f = sp.cos(x)\n",
        "second_derivative = sp.diff(f, x, 2)\n",
        "print(\"Second derivative of cos(x):\", second_derivative)\n",
        "\n",
        "# 4. Using de l’Hôpital’s Rule, find improper limits\n",
        "limit_4a = sp.limit(sp.sin(x)/x, x, 0)\n",
        "limit_4b = sp.limit(sp.ln(x)/x, x, 0)\n",
        "limit_4c = sp.limit(sp.exp(x)/x, x, sp.oo)\n",
        "print(\"lim (sin(x)/x) as x -> 0:\", limit_4a)\n",
        "print(\"lim (ln(x)/x) as x -> 0:\", limit_4b)\n",
        "print(\"lim (exp(x)/x) as x -> infinity:\", limit_4c)\n",
        "\n",
        "# 5. Physics Problem: Position, velocity, acceleration\n",
        "# Position of a particle\n",
        "x_t = 3*x**2 - 6*x + 1\n",
        "\n",
        "# Velocity v(t) = x'(t)\n",
        "v_t = sp.diff(x_t, x)\n",
        "\n",
        "# Acceleration a(t) = v'(t)\n",
        "a_t = sp.diff(v_t, x)\n",
        "\n",
        "# Evaluate at t = 2\n",
        "t = 2\n",
        "velocity_at_t2 = v_t.subs(x, t)\n",
        "acceleration_at_t2 = a_t.subs(x, t)\n",
        "\n",
        "print(\"Velocity at t=2:\", velocity_at_t2)\n",
        "print(\"Acceleration at t=2:\", acceleration_at_t2)\n"
      ],
      "metadata": {
        "id": "nP2U_UbXrZI-"
      },
      "execution_count": null,
      "outputs": []
    }
  ]
}