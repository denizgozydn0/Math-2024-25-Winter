{
  "cells": [
    {
      "cell_type": "markdown",
      "metadata": {
        "id": "LgPmClIwTTlQ"
      },
      "source": [
        "# Basic Matrix Operations\n",
        "\n",
        "### Matrix Addition\n",
        "\n",
        "Let $A=[a_{ij}]$ and $B=[b_{ij}]$ be two matrices of dimensions $m \\times n$. Then the sum of matrices $A$ and $B$ is the matrix $C=[c_{ij}]$ of dimensions $m \\times n$, where $c_{ij}=a_{ij}+b_{ij}$.\n",
        "\n",
        "### Matrix Scalar Multiplication\n",
        "\n",
        "Let $A=[a_{ij}]$ be a matrix of dimensions $m \\times n$, and let $k$ be a scalar. Then the product of matrix $A$ and scalar $k$ is the matrix $B=[b_{ij}]$ of dimensions $m \\times n$, where $b_{ij}=k \\cdot a_{ij}$.\n",
        "\n",
        "### Matrix Multiplication\n",
        "\n",
        "Let $A=[a_{ij}]$ be a matrix of dimensions $m \\times n$, and $B=[b_{ij}]$ be a matrix of dimensions $n \\times p$. Then the product of matrices $A$ and $B$ is the matrix $C=[c_{ij}]$ of dimensions $m \\times p$, where $c_{ij}=\\sum_{k=1}^{n} a_{ik} \\cdot b_{kj}$.\n",
        "\n",
        "\n",
        "### Example 1\n",
        "\n",
        "Let $A=\\begin{bmatrix} 1 & 2 \\\\ 3 & 4 \\end{bmatrix}$ and $B=\\begin{bmatrix} 5 & 6 \\\\ 7 & 8 \\end{bmatrix}$.\n",
        "Then the sum of matrices $A$ and $B$ is\n",
        "\n",
        "$$\n",
        "C=\n",
        "A+B=\\begin{bmatrix} 1+5 & 2+6 \\\\ 3+7 & 4+8 \\end{bmatrix}=\\begin{bmatrix} 6 & 8 \\\\ 10 & 12 \\end{bmatrix}.\n",
        "$$\n",
        "\n",
        "### Example 2\n",
        "\n",
        "Let $A=\\begin{bmatrix} 1 & 2 \\\\ 3 & 4 \\end{bmatrix}$ and $k=2$.\n",
        "\n",
        "Then the product of matrix $A$ and scalar $k$ is\n",
        "\n",
        "$$\n",
        "B=\n",
        "k \\cdot A=2 \\cdot \\begin{bmatrix} 1 & 2 \\\\ 3 & 4 \\end{bmatrix}=\\begin{bmatrix} 2*1 & 2*2 \\\\ 2*3 & 2*4 \\end{bmatrix}=\\begin{bmatrix} 2 & 4 \\\\ 6 & 8 \\end{bmatrix}.\n",
        "$$\n",
        "\n",
        "### Example 3\n",
        "\n",
        "Let\n",
        "$A=\\begin{bmatrix} 1 & 2 \\\\ 3 & 4 \\end{bmatrix}$\n",
        "and\n",
        "$B=\\begin{bmatrix} 5 & 6 \\\\ 7 & 8 \\end{bmatrix}$.\n",
        "\n",
        "Then the product of matrices $A$ and $B$ is\n",
        "\n",
        "$$\n",
        "C=\n",
        "A \\cdot B=\\begin{bmatrix} 1*5+2*7 & 1*6+2*8 \\\\ 3*5+4*7 & 3*6+4*8 \\end{bmatrix}=\\begin{bmatrix} 19 & 22 \\\\ 43 & 50 \\end{bmatrix}.\n",
        "$$"
      ]
    },
    {
      "cell_type": "code",
      "execution_count": null,
      "metadata": {
        "id": "4gNO8BNjTTlR"
      },
      "outputs": [],
      "source": [
        "# Example 1: Matrix addition in sympy\n",
        "import sympy as sp\n",
        "\n",
        "A=sp.Matrix([[1,2],[3,4]])\n",
        "B=sp.Matrix([[5,6],[7,8]])\n",
        "A # display matrix A"
      ]
    },
    {
      "cell_type": "code",
      "execution_count": null,
      "metadata": {
        "id": "5Wqf6BNyTTlR"
      },
      "outputs": [],
      "source": [
        "B # display matrix B"
      ]
    },
    {
      "cell_type": "code",
      "execution_count": null,
      "metadata": {
        "id": "n8OTwtKnTTlR"
      },
      "outputs": [],
      "source": [
        "sp.Matrix([[6,8],[10,12]])==A+B # verify matrix addition"
      ]
    },
    {
      "cell_type": "code",
      "execution_count": null,
      "metadata": {
        "id": "8as3_mFiTTlR"
      },
      "outputs": [],
      "source": [
        "# Example 2: Scalar multiplication\n",
        "A=sp.Matrix([[1,2],[3,4]]) # define matrix A\n",
        "\n",
        "sp.Matrix([[2,4],[6,8]])==2*A # verify scalar multiplication"
      ]
    },
    {
      "cell_type": "code",
      "execution_count": null,
      "metadata": {
        "id": "XuFPt7a7TTlR"
      },
      "outputs": [],
      "source": [
        "# Example 3: Multiplication of two matrices\n",
        "\n",
        "A=sp.Matrix([[1,2],[3,4]]) # define matrix A\n",
        "B=sp.Matrix([[5,6],[7,8]]) # define matrix B\n",
        "\n",
        "sp.Matrix([[19,22],[43,50]])==A*B # verify matrix multiplication"
      ]
    },
    {
      "cell_type": "markdown",
      "metadata": {
        "id": "8XvwP61_TTlR"
      },
      "source": [
        "### Necessary Condition for Matrix Multiplication\n",
        "\n",
        "Remember that matrices can have different numbers of rows and columns.\n",
        "\n",
        "To multiply two matrices $A_{m \\times n}$ and $B_{n \\times k}$, where $A$ has dimensions $m \\times n$ and $B$ has dimensions $n \\times k$, the number of columns of matrix $A$ must equal the number of rows of matrix $B$. Otherwise, matrix multiplication is not possible.\n",
        "\n",
        "$$\n",
        "A_{m \\times n} \\cdot B_{n \\times k} = C_{m \\times k}\n",
        "$$\n",
        "\n",
        "For example, if $A_{3 \\times 3}$ and $B_{3 \\times 3}$, then the resulting matrix $C_{3 \\times 3}$.\n",
        "\n",
        "<img src=\"https://www.mscroggs.co.uk/img/full/multiply_matrices.gif\" alt=\"Matrix Multiplication GIF\" width=\"400\">\n",
        "\n",
        "### Matrix Multiplication is Not Commutative\n",
        "\n",
        "Matrix multiplication is not commutative, i.e., in general $A \\cdot B \\neq B \\cdot A$."
      ]
    },
    {
      "cell_type": "code",
      "execution_count": null,
      "metadata": {
        "id": "h_zpaNdSTTlR"
      },
      "outputs": [],
      "source": [
        "# Example of multiplying rectangular matrices\n",
        "import sympy as sp\n",
        "A=sp.Matrix([[1,2],[3,4],[5,6]]) # define matrix A_{3 x 2}\n",
        "B=sp.Matrix([[1,2,3],[4,5,6]]) # define matrix B_{2 x 3}\n",
        "C=sp.Matrix([[9,12,15],[19,26,33],[29,40,51]]) # define matrix C_{3 x 3}\n",
        "\n",
        "A*B # multiply matrices A and B to get a 3x3 matrix"
      ]
    },
    {
      "cell_type": "code",
      "execution_count": null,
      "metadata": {
        "id": "Khq7iVnGTTlS"
      },
      "outputs": [],
      "source": [
        "B*A # multiply matrices B and A to get a 2x2 matrix"
      ]
    },
    {
      "cell_type": "code",
      "source": [],
      "metadata": {
        "id": "i192_7iGTXNU"
      },
      "execution_count": null,
      "outputs": []
    },
    {
      "cell_type": "code",
      "execution_count": null,
      "metadata": {
        "id": "eKcjGnp4TTlS"
      },
      "outputs": [],
      "source": [
        "B*C # multiply matrices B and C to get a 2x3 matrix"
      ]
    },
    {
      "cell_type": "markdown",
      "metadata": {
        "id": "Z6rdgJfKTTlS"
      },
      "source": [
        "---\n",
        "## Exercises for Students\n",
        "\n",
        "1. Calculate the sum of matrices $A=\\begin{bmatrix} 1 & 2 \\\\ 3 & 4 \\end{bmatrix}$ and $B=\\begin{bmatrix} 5 & 6 \\\\ 7 & 8 \\end{bmatrix}$.\n",
        "\n",
        "2. Calculate the product of matrix $A=\\begin{bmatrix} 4 & 2 \\\\ 12 & 4 \\end{bmatrix}$ and scalar $k=\\frac{1}{4}$.\n",
        "\n",
        "3. Calculate the products $A\\cdot B$ and $B \\cdot A$ for matrices $A=\\begin{bmatrix} 3 & 2 \\\\ 2 & 4 \\end{bmatrix}$ and $B=\\begin{bmatrix} 4 & 1 \\\\ 6 & 4 \\end{bmatrix}$."
      ]
    },
    {
      "cell_type": "code",
      "source": [
        "#example 1\n",
        ". A = sp.Matrix ([[1 ,2],[3,4]])"
      ],
      "metadata": {
        "id": "ChBYPxyvdYYr"
      },
      "execution_count": null,
      "outputs": []
    },
    {
      "cell_type": "code",
      "source": [
        "B= sp.Matrix ([[5,6], [7,8]])"
      ],
      "metadata": {
        "id": "AGOxBuzPjenT"
      },
      "execution_count": null,
      "outputs": []
    },
    {
      "cell_type": "code",
      "source": [
        "sum_matrices = A+B"
      ],
      "metadata": {
        "id": "gCqUGZnAmJrq"
      },
      "execution_count": null,
      "outputs": []
    },
    {
      "cell_type": "code",
      "source": [
        "print (\"A + B =\", sum_matrices)"
      ],
      "metadata": {
        "id": "N3cJ5ItZm0co"
      },
      "execution_count": null,
      "outputs": []
    },
    {
      "cell_type": "code",
      "source": [],
      "metadata": {
        "id": "GPYMreoXouMm"
      },
      "execution_count": null,
      "outputs": []
    },
    {
      "cell_type": "code",
      "source": [
        "# example 2\n",
        "   A_scalar = sp.Matrix ([[4, 2], [12, 4]])"
      ],
      "metadata": {
        "id": "FBoX-g5-oxfQ"
      },
      "execution_count": null,
      "outputs": []
    },
    {
      "cell_type": "code",
      "source": [
        "scaler = 1/4"
      ],
      "metadata": {
        "id": "TVpnbedNp4XE"
      },
      "execution_count": null,
      "outputs": []
    },
    {
      "cell_type": "code",
      "source": [
        "scaled_matrix = scalar * A_scalar"
      ],
      "metadata": {
        "id": "vpaZ159nqEr2"
      },
      "execution_count": null,
      "outputs": []
    },
    {
      "cell_type": "code",
      "source": [
        "print (\"scalar * A =\", scaled_matrix)"
      ],
      "metadata": {
        "id": "pgioo8mUqV6q"
      },
      "execution_count": null,
      "outputs": []
    },
    {
      "cell_type": "code",
      "source": [],
      "metadata": {
        "id": "qDy0jIF1rbbF"
      },
      "execution_count": null,
      "outputs": []
    },
    {
      "cell_type": "code",
      "source": [
        "# example 3\n",
        "  A_product = sp.matrix ([[3, 2], [12, 4]])"
      ],
      "metadata": {
        "id": "xQYGQ7gQrcAu"
      },
      "execution_count": null,
      "outputs": []
    },
    {
      "cell_type": "code",
      "source": [
        "B_product = sp.matrix ([[4, 1], [6, 4]])"
      ],
      "metadata": {
        "id": "qeVf6M1hr1OV"
      },
      "execution_count": null,
      "outputs": []
    },
    {
      "cell_type": "code",
      "source": [
        "A_dot_B = A_product * B_product"
      ],
      "metadata": {
        "id": "V9qUUTT0sD75"
      },
      "execution_count": null,
      "outputs": []
    },
    {
      "cell_type": "code",
      "source": [
        "B_dot_A = B_product * A_product"
      ],
      "metadata": {
        "id": "0q9s7ctpsPpr"
      },
      "execution_count": null,
      "outputs": []
    },
    {
      "cell_type": "code",
      "source": [
        "print(\"A * B =\", A_dot_B)"
      ],
      "metadata": {
        "id": "IKhfC4bcsbgc"
      },
      "execution_count": null,
      "outputs": []
    },
    {
      "cell_type": "code",
      "source": [
        "print(\"B * A =\", B_dot_A)"
      ],
      "metadata": {
        "id": "O03J11L2sn6K"
      },
      "execution_count": null,
      "outputs": []
    }
  ],
  "metadata": {
    "kernelspec": {
      "display_name": "Python 3",
      "language": "python",
      "name": "python3"
    },
    "language_info": {
      "name": "python",
      "version": "3.11.9"
    },
    "colab": {
      "provenance": []
    }
  },
  "nbformat": 4,
  "nbformat_minor": 0
}